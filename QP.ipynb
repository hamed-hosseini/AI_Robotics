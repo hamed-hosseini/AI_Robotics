{
 "cells": [
  {
   "cell_type": "markdown",
   "metadata": {},
   "source": [
    "## Computing $\\alpha$"
   ]
  },
  {
   "cell_type": "code",
   "execution_count": 7,
   "metadata": {},
   "outputs": [
    {
     "name": "stdout",
     "output_type": "stream",
     "text": [
      "     pcost       dcost       gap    pres   dres\n",
      " 0: -2.2204e+00 -5.2226e+00  1e+01  2e+00  2e+00\n",
      " 1: -7.7729e+00 -8.4086e+00  2e+00  9e-01  9e-01\n",
      " 2: -4.6693e+00 -1.4799e+01  1e+01  2e-15  3e-14\n",
      " 3: -9.5749e+00 -1.0062e+01  5e-01  2e-15  7e-15\n",
      " 4: -9.9957e+00 -1.0001e+01  5e-03  1e-15  7e-15\n",
      " 5: -1.0000e+01 -1.0000e+01  5e-05  2e-15  3e-15\n",
      " 6: -1.0000e+01 -1.0000e+01  5e-07  4e-15  8e-15\n",
      "Optimal solution found.\n",
      "Optimal solution (alphas):\n",
      "[9.99999978e+00 3.54207667e-08 3.99999994e+00 5.99999988e+00]\n"
     ]
    }
   ],
   "source": [
    "import numpy as np\n",
    "from cvxopt import matrix, solvers\n",
    "\n",
    "# Define the parameters for the quadratic programming problem\n",
    "Q = np.array([\n",
    "    [8, 16, -8, -6],\n",
    "    [16, 32, -16, -12],\n",
    "    [-8, -16, 10, 5],\n",
    "    [-6, -12, 5, 5]\n",
    "], dtype=np.double)\n",
    "\n",
    "p = np.array([-1, -1, -1, -1], dtype=np.double)\n",
    "\n",
    "G = -np.eye(4)\n",
    "h = np.zeros(4)\n",
    "\n",
    "A = np.array([[1, 1, -1, -1]], dtype=np.double)\n",
    "b = np.array([0], dtype=np.double)\n",
    "\n",
    "# Convert to cvxopt matrices\n",
    "Q = matrix(Q)\n",
    "p = matrix(p)\n",
    "G = matrix(G)\n",
    "h = matrix(h)\n",
    "A = matrix(A)\n",
    "b = matrix(b)\n",
    "\n",
    "# Solve the quadratic programming problem\n",
    "sol = solvers.qp(Q, p, G, h, A, b)\n",
    "\n",
    "# Print the solution\n",
    "alphas = np.array(sol['x']).flatten()\n",
    "print(\"Optimal solution (alphas):\")\n",
    "print(alphas)\n"
   ]
  },
  {
   "cell_type": "markdown",
   "metadata": {},
   "source": [
    "## Computing w , b"
   ]
  },
  {
   "cell_type": "code",
   "execution_count": 8,
   "metadata": {},
   "outputs": [
    {
     "name": "stdout",
     "output_type": "stream",
     "text": [
      "Weight vector (w):\n",
      "[4.00000001 2.        ]\n",
      "Bias term (b):\n",
      "-11.000000031697631\n"
     ]
    }
   ],
   "source": [
    "# Define the correct data points and labels\n",
    "# Data points (one per row)\n",
    "X = np.array([\n",
    "    [2, 2],  # Positive example\n",
    "    [4, 4],  # Positive example\n",
    "    [1, 3],  # Negative example\n",
    "    [2, 1]   # Negative example\n",
    "])\n",
    "\n",
    "# Labels\n",
    "y = np.array([1, 1, -1, -1])\n",
    "\n",
    "# Calculate the weight vector w\n",
    "w = np.sum(alphas[:, np.newaxis] * y[:, np.newaxis] * X, axis=0)\n",
    "print(\"Weight vector (w):\")\n",
    "print(w)\n",
    "\n",
    "# Calculate the bias term b\n",
    "# Find support vectors (alphas > some threshold)\n",
    "support_vectors = (alphas > 1e-5)\n",
    "\n",
    "# Calculate b using one of the support vectors\n",
    "b_values = y[support_vectors] - np.dot(X[support_vectors], w)\n",
    "b = np.mean(b_values)  # Taking the mean if multiple support vectors\n",
    "print(\"Bias term (b):\")\n",
    "print(b)\n"
   ]
  },
  {
   "cell_type": "code",
   "execution_count": 9,
   "metadata": {},
   "outputs": [
    {
     "name": "stdout",
     "output_type": "stream",
     "text": [
      "Verification of points:\n",
      "Point [2 2], Label: 1, Decision function result: 1.0000000045747992, Prediction: 1.0\n",
      "Point [4 4], Label: 1, Decision function result: 13.00000004084723, Prediction: 1.0\n",
      "Point [1 3], Label: -1, Decision function result: -1.0000000047377746, Prediction: -1.0\n",
      "Point [2 1], Label: -1, Decision function result: -0.9999999998370228, Prediction: -1.0\n"
     ]
    }
   ],
   "source": [
    "# Verification of all points\n",
    "def decision_function(x):\n",
    "    return np.dot(x, w) + b\n",
    "\n",
    "print(\"Verification of points:\")\n",
    "for i in range(len(X)):\n",
    "    result = decision_function(X[i])\n",
    "    print(f\"Point {X[i]}, Label: {y[i]}, Decision function result: {result}, Prediction: {np.sign(result)}\")\n"
   ]
  }
 ],
 "metadata": {
  "kernelspec": {
   "display_name": "Python 3",
   "language": "python",
   "name": "python3"
  },
  "language_info": {
   "codemirror_mode": {
    "name": "ipython",
    "version": 3
   },
   "file_extension": ".py",
   "mimetype": "text/x-python",
   "name": "python",
   "nbconvert_exporter": "python",
   "pygments_lexer": "ipython3",
   "version": "3.9.0"
  }
 },
 "nbformat": 4,
 "nbformat_minor": 2
}
