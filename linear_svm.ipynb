{
 "cells": [
  {
   "cell_type": "markdown",
   "metadata": {},
   "source": [
    "# Linear SVM Implementation using scikit-learn"
   ]
  },
  {
   "cell_type": "markdown",
   "metadata": {},
   "source": [
    "## Install Necessary Libraries\n",
    "```python\n",
    "!pip install scikit-learn matplotlib\n",
    "```"
   ]
  },
  {
   "cell_type": "code",
   "execution_count": null,
   "metadata": {},
   "outputs": [],
   "source": [
    "## Import Libraries\n",
    "import numpy as np\n",
    "import matplotlib.pyplot as plt\n",
    "from sklearn import svm\n",
    "from sklearn.datasets import make_blobs"
   ]
  },
  {
   "cell_type": "code",
   "execution_count": null,
   "metadata": {},
   "outputs": [],
   "source": [
    "## Generate Synthetic Data\n",
    "# Generate synthetic data\n",
    "X, y = make_blobs(n_samples=100, centers=2, random_state=6)\n",
    "\n",
    "# Visualize the data\n",
    "plt.scatter(X[:, 0], X[:, 1], c=y, cmap='winter')\n",
    "plt.title('Synthetic Data')\n",
    "plt.xlabel('Feature 1')\n",
    "plt.ylabel('Feature 2')\n",
    "plt.show()"
   ]
  },
  {
   "cell_type": "code",
   "execution_count": null,
   "metadata": {},
   "outputs": [],
   "source": [
    "## Train Linear SVM Model\n",
    "# Create and train the SVM model\n",
    "model = svm.SVC(kernel='linear', C=1.0)\n",
    "model.fit(X, y)"
   ]
  },
  {
   "cell_type": "code",
   "execution_count": null,
   "metadata": {},
   "outputs": [],
   "source": [
    "## Visualize Decision Boundary\n",
    "# Plot the decision boundary\n",
    "w = model.coef_[0]\n",
    "b = model.intercept_[0]\n",
    "x_plot = np.linspace(X[:, 0].min(), X[:, 0].max(), 100)\n",
    "y_plot = -(w[0] / w[1]) * x_plot - b / w[1]\n",
    "\n",
    "# Plot the margins\n",
    "margin = 1 / np.sqrt(np.sum(model.coef_ ** 2))\n",
    "y_margin_up = y_plot + np.sqrt(1 + (w[0] / w[1]) ** 2) * margin\n",
    "y_margin_down = y_plot - np.sqrt(1 + (w[0] / w[1]) ** 2) * margin\n",
    "\n",
    "plt.scatter(X[:, 0], X[:, 1], c=y, cmap='winter')\n",
    "plt.plot(x_plot, y_plot, 'k-')\n",
    "plt.plot(x_plot, y_margin_up, 'k--')\n",
    "plt.plot(x_plot, y_margin_down, 'k--')\n",
    "plt.title('Linear SVM Decision Boundary')\n",
    "plt.xlabel('Feature 1')\n",
    "plt.ylabel('Feature 2')\n",
    "plt.show()"
   ]
  }
 ],
 "metadata": {
  "kernelspec": {
   "display_name": "Python 3",
   "language": "python",
   "name": "python3"
  },
  "language_info": {
   "codemirror_mode": {
    "name": "ipython",
    "version": 3
   },
   "file_extension": ".py",
   "mimetype": "text/x-python",
   "name": "python",
   "nbconvert_exporter": "python",
   "pygments_lexer": "ipython3",
   "version": "3.8.8"
  }
 },
 "nbformat": 4,
 "nbformat_minor": 5
}
